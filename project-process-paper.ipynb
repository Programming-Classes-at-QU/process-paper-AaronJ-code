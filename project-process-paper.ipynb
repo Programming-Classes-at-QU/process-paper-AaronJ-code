{
 "cells": [
  {
   "cell_type": "markdown",
   "metadata": {},
   "source": [
    "# Enter Name here: "
   ]
  },
  {
   "cell_type": "markdown",
   "metadata": {},
   "source": [
    "# Assignment \n",
    "\n",
    "This process paper is a time for you to discuss the process you took personally to get to the final project. Why did you choose the data you chose? How well did it work for your question? Did you need (or want) to change your question as you evaluated your data more? What provided you with particular difficulties or struggles? How did you overcome those challenges? What parts were the easy parts? \n",
    "\n",
    "This paper should be a minimum of 300 words. It should be turned in via a .ipynb file, so you can demonstrate some of the issues with code, or you can use it to show things you thought were particularly interesting, but might not have found their way into the final project.\n",
    "\n",
    "Think of this as a reflection on the process you went through to get to the final project. You should be familiar with reflections at this point in your Queens career.\n",
    "\n",
    "Begin writing in the cell below."
   ]
  },
  { 

" Project Overview/Hypothesis: Daily Trend" popularity of each artists correlates to the number of listeners an artists has at their peak  

Basis of me Choosing Dataset: For this project I used a Kaggle dataset that was created in 2023 to be able to answer a curiosity that I 
had of the number of listeners an artists has based on their peak levels of performance in terms of rating (#1 on spotify, #97 on Spotify, etc).
I was curious if an artist is at, let's say an artist on spotify is not in the top 50 on spotify, does that affect the amount of listeners 
that an artist can have at their peak.  

Why did I Choose the Data I Chose? : The reason I choose the data I choose is for two reasons, The first is I really love music. 
It keeps me together in a lot of instances and I was really excited to be able to find possible answers to the questions I had regarding 
this topic that I just didn’t have the analytical ability to be able to solve myself. Second is that this dataset is very large. 
Meaning I can have the ability to choose any question and look into a multitude of artists that I would like. I chose to stay broad, 
but I had the ability to get specific.  

How well did it work for your question and Did you need (or want) to change your question as you evaluated your data more? : 
The Dataset was able to work well with my question, but I did have to make a change to my question. My original idea for something I wanted 
to look into for this project was discovering who the top 25-50 artists were on Spotify this year and possibly who was the most listened 
to out of those artists. After some time, I came to the conclusion that this question was quite unimaginative, and was not very explorative.
With that I needed the change.  

What provided you with particular difficulties or struggles? How did you overcome those challenges? What parts were the easy parts? : 
What provided me the most difficulty was being able to translate class learnings into executing the code. This class has been quite 
difficult for me and being able to understand the methods being taught and translating it into this individual work was very challenging
for me. The way I was able to overcome it was by finding resources such as class notes and lecture slides. Going back and being able to
truly see the errors in my thought process going about work helped tremendously. I wouldn’t say that any of the parts of the assignment
were easy. 

   "cell_type": "markdown",
   "metadata": {},
   "source": []
  }
 ],
 "metadata": {
  "language_info": {
   "name": "python"
  }
 },
 "nbformat": 4,
 "nbformat_minor": 2
}
